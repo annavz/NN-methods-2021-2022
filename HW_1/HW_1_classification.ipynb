{
 "cells": [
  {
   "cell_type": "markdown",
   "metadata": {},
   "source": [
    "# Задание 2"
   ]
  },
  {
   "cell_type": "code",
   "execution_count": 185,
   "metadata": {},
   "outputs": [],
   "source": [
    "import zipfile\n",
    "import pandas as pd\n",
    "import os\n",
    "import re\n",
    "from langdetect import detect\n",
    "import spacy\n",
    "import matplotlib.pyplot as mpl\n",
    "from nltk.corpus import stopwords\n",
    "from sklearn.feature_extraction.text import TfidfVectorizer\n",
    "from sklearn.feature_extraction.text import CountVectorizer\n",
    "import numpy as np\n",
    "from sklearn.model_selection import train_test_split, GridSearchCV\n",
    "import seaborn as sns"
   ]
  },
  {
   "cell_type": "code",
   "execution_count": 102,
   "metadata": {},
   "outputs": [
    {
     "data": {
      "text/plain": [
       "Index(['title', 'price', 'rating', 'total_reviews', 'product_description',\n",
       "       'reviews', 'reviews_rating', 'Shoe Type'],\n",
       "      dtype='object')"
      ]
     },
     "execution_count": 102,
     "metadata": {},
     "output_type": "execute_result"
    }
   ],
   "source": [
    "path = r'C:\\Users\\VADIK\\Documents\\ВШЭ\\final\\data\\NN-methods-2021-2022\\HW_1'\n",
    "data = pd.read_csv(os.path.join(path, 'Shoes_Data.csv'), \n",
    "                 sep=',',\n",
    "                 header=0\n",
    "                )\n",
    "data.columns"
   ]
  },
  {
   "cell_type": "code",
   "execution_count": 103,
   "metadata": {},
   "outputs": [
    {
     "name": "stderr",
     "output_type": "stream",
     "text": [
      "<ipython-input-103-a7895822b289>:2: SettingWithCopyWarning: \n",
      "A value is trying to be set on a copy of a slice from a DataFrame.\n",
      "Try using .loc[row_indexer,col_indexer] = value instead\n",
      "\n",
      "See the caveats in the documentation: https://pandas.pydata.org/pandas-docs/stable/user_guide/indexing.html#returning-a-view-versus-a-copy\n",
      "  df['reviews'] = df['reviews'].transform(lambda x: x.split('||'))\n",
      "<ipython-input-103-a7895822b289>:3: SettingWithCopyWarning: \n",
      "A value is trying to be set on a copy of a slice from a DataFrame.\n",
      "Try using .loc[row_indexer,col_indexer] = value instead\n",
      "\n",
      "See the caveats in the documentation: https://pandas.pydata.org/pandas-docs/stable/user_guide/indexing.html#returning-a-view-versus-a-copy\n",
      "  df['reviews_rating'] = df['reviews_rating'].transform(lambda x: x.split('||'))\n"
     ]
    }
   ],
   "source": [
    "df = data[['reviews', 'reviews_rating']]\n",
    "df['reviews'] = df['reviews'].transform(lambda x: x.split('||'))\n",
    "df['reviews_rating'] = df['reviews_rating'].transform(lambda x: x.split('||'))"
   ]
  },
  {
   "cell_type": "code",
   "execution_count": 104,
   "metadata": {},
   "outputs": [],
   "source": [
    "assert len(df['reviews'].sum()) == len(df['reviews_rating'].sum())"
   ]
  },
  {
   "cell_type": "code",
   "execution_count": 105,
   "metadata": {},
   "outputs": [
    {
     "data": {
      "text/plain": [
       "(5493, 2)"
      ]
     },
     "execution_count": 105,
     "metadata": {},
     "output_type": "execute_result"
    }
   ],
   "source": [
    "final_df = pd.DataFrame([])\n",
    "final_df['review'] = df['reviews'].sum()\n",
    "final_df['review_rating'] = df['reviews_rating'].sum()\n",
    "df = final_df\n",
    "df.drop_duplicates(inplace=True)\n",
    "df.shape"
   ]
  },
  {
   "cell_type": "markdown",
   "metadata": {},
   "source": [
    "### Язык"
   ]
  },
  {
   "cell_type": "code",
   "execution_count": 106,
   "metadata": {},
   "outputs": [],
   "source": [
    "def detect_lang(x):\n",
    "    try:\n",
    "        lang = detect(x)\n",
    "    except Exception as e:\n",
    "        lang = str(Exception)\n",
    "    return lang"
   ]
  },
  {
   "cell_type": "code",
   "execution_count": 107,
   "metadata": {},
   "outputs": [
    {
     "name": "stdout",
     "output_type": "stream",
     "text": [
      "Wall time: 44.6 s\n"
     ]
    }
   ],
   "source": [
    "%%time\n",
    "df['review_lang'] = df['review'].transform(lambda x: detect_lang(x))"
   ]
  },
  {
   "cell_type": "code",
   "execution_count": 108,
   "metadata": {},
   "outputs": [
    {
     "data": {
      "text/plain": [
       "[' AVERAGE PRODUCT',\n",
       " ' Pic more beautiful',\n",
       " ' Do not buy it anyway',\n",
       " ' Best for gym n sports',\n",
       " ' Must must must buy',\n",
       " ' Awesome Amazon Awesome',\n",
       " ' 5 star',\n",
       " ' No buy',\n",
       " 'Sup quality',\n",
       " ' Awesome 👌.!',\n",
       " 'Best',\n",
       " ' Must bye for puja',\n",
       " 'Awesome',\n",
       " ' Nice Product',\n",
       " ' Nice',\n",
       " ' Bad',\n",
       " 'Bang for buck(paise)',\n",
       " ' Got one',\n",
       " ' Poor quality',\n",
       " ' Superb quality.',\n",
       " ' Yah product mujhe bahut achcha',\n",
       " ' Good',\n",
       " 'Great looking shoes I like it',\n",
       " ' Total Fake',\n",
       " ' Disappointed',\n",
       " ' Superb product',\n",
       " ' Nice product',\n",
       " ' Niceee',\n",
       " '1 no. Hai Bhai .... love it',\n",
       " ' Excellent sneakers',\n",
       " ' Chep And best.',\n",
       " ' Gud for price',\n",
       " ' Awesome Shoes',\n",
       " ' I dont like thik',\n",
       " ' Bad quantity',\n",
       " ' Junaid khan',\n",
       " ' My Views',\n",
       " ' Budget Loafer for Mens',\n",
       " ' Paisa vasul product...',\n",
       " ' Pasting not good',\n",
       " ' Review',\n",
       " ' On time delivered',\n",
       " ' Shoes',\n",
       " ' Very waste',\n",
       " ' Too good',\n",
       " ' Wrost product !',\n",
       " ' Excellent',\n",
       " ' Nice 🙂 product',\n",
       " ' Nice colours',\n",
       " ' Paisa wasool .........',\n",
       " ' Superb!!',\n",
       " ' Excellent Value for Money',\n",
       " ' Cheap decent slippers',\n",
       " ' Regular user @home',\n",
       " ' 😂Extra Lasting / Long Lasting but NOT Everlasting😘',\n",
       " ' Very nice product',\n",
       " ' Ok bad ok',\n",
       " ' Haa thek hi h ok ok',\n",
       " ' Value for money',\n",
       " 'I like it',\n",
       " ' Its not long lasting',\n",
       " ' Fit',\n",
       " 'Value for Money',\n",
       " 'User review',\n",
       " ' बहुत ही खराब सामान',\n",
       " ' DONT BUY',\n",
       " \" I'm not disappointed\",\n",
       " ' Ok ok',\n",
       " ' Replacement policy',\n",
       " ' Centrino Mens Formal Shoes',\n",
       " ' Best at 354',\n",
       " ' Good One',\n",
       " ' not satisfied',\n",
       " ' Thank you amazon',\n",
       " ' Good👍',\n",
       " ' Durable',\n",
       " ' Shoes reviews',\n",
       " ' good',\n",
       " 'Comfy !!!',\n",
       " ' Gd',\n",
       " ' Good Shoes',\n",
       " ' GOOD PRODUCT',\n",
       " ' Bad quality',\n",
       " 'Average.',\n",
       " ' Wrost quility',\n",
       " ' Superb',\n",
       " ' Bad quality sole',\n",
       " ' Awesome',\n",
       " ' Suppar',\n",
       " ' Okh product',\n",
       " 'Avg Looking.. Avg Quality',\n",
       " ' Nice products',\n",
       " ' Box is open',\n",
       " 'Good',\n",
       " ' One Star',\n",
       " ' Softness.',\n",
       " ' Even in brands like nike puma',\n",
       " ' Simple safe',\n",
       " ' Unsatisfied',\n",
       " ' Bad product',\n",
       " ' Not even 1⭐',\n",
       " ' Fraud seller',\n",
       " ' Excellent product',\n",
       " ' Wonderful And Excellent Shoes 👌👌👌👍👍👍',\n",
       " ' 5*',\n",
       " ' Value for Money',\n",
       " ' Not good',\n",
       " ' Sole',\n",
       " 'Beautiful shoes ❤️',\n",
       " ' Size is good',\n",
       " ' Price',\n",
       " ' Pls give me my order',\n",
       " ' Nice 👌👌👌',\n",
       " ' Different brand delivered but value for money.',\n",
       " ' Smart & Economical',\n",
       " ' Dipesh katara',\n",
       " 'nice product',\n",
       " \" Don't order at all\",\n",
       " 'सुझाव',\n",
       " ' Size',\n",
       " ' Very good',\n",
       " 'Problem',\n",
       " ' Not bad',\n",
       " ' nice',\n",
       " ' Bang on Bucks',\n",
       " 'Poor quality',\n",
       " ' Supper',\n",
       " 'DO NOT BUY!',\n",
       " \" Relaxo Men's house slipper\",\n",
       " ' Accupressure anyone?',\n",
       " ' good very nyc👌👌',\n",
       " ' Order extra size',\n",
       " ' Change',\n",
       " ' Size 7uk',\n",
       " ' Best for me',\n",
       " ' Delightful',\n",
       " ' Nice fit',\n",
       " ' Amazing experience',\n",
       " ' Really good for a Rainy day..',\n",
       " ' Overall good',\n",
       " 'Amazing!',\n",
       " ' LOOK VERY AWESOME SHOES FIT AS EXPECTED',\n",
       " 'Expensive!',\n",
       " ' Dreadful experience',\n",
       " ' Good looking',\n",
       " ' 5star',\n",
       " ' Good to go',\n",
       " ' Ok',\n",
       " 'EASY & COMFORTABLE',\n",
       " ' Bad experience.',\n",
       " ' Colour issue',\n",
       " ' Size description',\n",
       " ' Size is different between combo shoes',\n",
       " ' Air passing',\n",
       " 'Very nice',\n",
       " ' Seems like poor quality of shoe lookwise it is okay',\n",
       " ' Best Running shoes',\n",
       " ' VERY UNCOMFORTABLE',\n",
       " '👎🏻',\n",
       " ' pairs no 6&7',\n",
       " ' ⭐️⭐️⭐️⭐️⭐️',\n",
       " ' Bad seller',\n",
       " ' Decent',\n",
       " ' Best app for shopping',\n",
       " ' Formals-cum-semiFormals',\n",
       " ' Okay',\n",
       " ' terrible product',\n",
       " 'nice',\n",
       " ' Poor',\n",
       " ' Not recommend',\n",
       " ' Ok ok type shoes',\n",
       " ' Amazing☑️',\n",
       " 'Buy 1+ size after calculate size chart',\n",
       " ' Average quality sandals',\n",
       " ' Overall unbelievable!',\n",
       " ' THANKS AMAZON Excellent product.',\n",
       " ' Size product',\n",
       " ' Yes',\n",
       " ' VERY GOOD VALUE FOR YOUR MONEY AND QUALITY.',\n",
       " ' Disappointing.',\n",
       " ' Full Marks',\n",
       " ' Very good shoes',\n",
       " ' Disappointing',\n",
       " ' OK OK not so gud',\n",
       " 'quality',\n",
       " ' Damaged',\n",
       " ' Not better',\n",
       " ' Damage shoe',\n",
       " ' Return',\n",
       " ' very bad',\n",
       " ' Amazing quality',\n",
       " ' ABSOLUTE VALUE FOR MONEY !',\n",
       " ' poor quality',\n",
       " ' Dismaying',\n",
       " 'Good Look!',\n",
       " ' Left Shoe is Damage',\n",
       " \" Don't buy it guys\",\n",
       " ' BEST FOR WALKING(UK SIZE)',\n",
       " ' Good job',\n",
       " ' Good fit good grip',\n",
       " ' Excellent product.',\n",
       " ' COMFORTABLE AND GOOD QUALITY',\n",
       " ' Quite nice',\n",
       " ' I got wet shoes!',\n",
       " ' great product  excellent quality.',\n",
       " ' comfort',\n",
       " ' Best buy',\n",
       " ' Buy +1size',\n",
       " ' GOOD',\n",
       " 'Only good',\n",
       " ' Not so durable',\n",
       " ' Like',\n",
       " 'Wrost metirial',\n",
       " 'Best shoe under 500',\n",
       " ' S.all size',\n",
       " ' 2',\n",
       " 'Value for money',\n",
       " ' nice product',\n",
       " ' Average...',\n",
       " ' Amazing and elegant looks..... 😊😊',\n",
       " ' Osm bole to ek no1',\n",
       " ' Just ok',\n",
       " 'Amazing',\n",
       " ' Acceptable',\n",
       " ' comfortable',\n",
       " ' good one',\n",
       " ' Evergreen shoes',\n",
       " ' Budget friendly product.',\n",
       " ' Appropriate',\n",
       " ' Perfect uni⭐',\n",
       " ' its Okay Okay Type',\n",
       " ' Deferent size product',\n",
       " ' Good look',\n",
       " \" Don't buy pls stay away\",\n",
       " ' All show no go.',\n",
       " ' Good.',\n",
       " 'Good buy',\n",
       " ' Average',\n",
       " ' Mhagama rod line',\n",
       " ' Avg',\n",
       " ' Comfortable.',\n",
       " ' Osm shoes',\n",
       " ' Best quality',\n",
       " ' Not so good',\n",
       " ' Colour',\n",
       " ' Just too good',\n",
       " ' Ossam product',\n",
       " ' Ok product',\n",
       " 'Very good',\n",
       " ' Great product fit & price',\n",
       " 'Disappointed',\n",
       " ' Good for Jog.',\n",
       " ' For minimal usage',\n",
       " 'Best product',\n",
       " ' Looks Good',\n",
       " ' perfect',\n",
       " 'Nice product',\n",
       " ' Not a valuable buy',\n",
       " ' बहुत बढिया',\n",
       " ' Not Good',\n",
       " ' 100/49 marks',\n",
       " ' Look like Cool one....',\n",
       " ' Quality kharab hain.exchange karneke badd',\n",
       " ' 👎👎not good',\n",
       " ' Too small',\n",
       " ' ..',\n",
       " ' Not satisfied',\n",
       " \"don't buy\",\n",
       " ' Shoes Review',\n",
       " ' To large',\n",
       " ' different colour',\n",
       " ' Good not better',\n",
       " ' Best',\n",
       " ' Difet',\n",
       " ' Needs improvement!',\n",
       " ' Exchange reviews',\n",
       " ' Buy better one',\n",
       " ' good fit',\n",
       " ' Got single sleeper',\n",
       " ' Poor sole material',\n",
       " ' Just usable',\n",
       " ' Do not buy',\n",
       " ' Best in price',\n",
       " ' But',\n",
       " ' Good for daily wear',\n",
       " 'Supbb quality',\n",
       " ' Nice product.',\n",
       " ' OK',\n",
       " 'Fake product',\n",
       " ' RUN RUN RUN!!!!',\n",
       " ' Awosome',\n",
       " ' Very unique',\n",
       " ' Bekaar',\n",
       " ' Request plz improve lase quality..',\n",
       " ' Very bad grip',\n",
       " ' Shoe Sole',\n",
       " ' SHOCKED.....!!!!!! REAL STUNNER',\n",
       " ' Bawal hai .',\n",
       " ' Superb!!!',\n",
       " '😠😠😠',\n",
       " ' Excellent shoes',\n",
       " ' Original product',\n",
       " ' value for money',\n",
       " ' Weight',\n",
       " ' Amazing',\n",
       " 'Feels like ok ok product',\n",
       " ' Very nyc',\n",
       " 'Not like',\n",
       " ' Good shoes',\n",
       " 'Ok',\n",
       " ' Not waterproof',\n",
       " ' O p o p o p o p o p o p',\n",
       " ' Prize issues',\n",
       " ' So so so comfortable.... 😘',\n",
       " ' Better meterial',\n",
       " ' lace may be good design',\n",
       " ' Not perfect size',\n",
       " ' Best cost',\n",
       " ' Fitting',\n",
       " ' Shoe good',\n",
       " ' Bakwas',\n",
       " 'Excellent',\n",
       " ' 👍',\n",
       " ' Best from bata under 1k',\n",
       " ' I am very happy for deliver me but',\n",
       " ' Nice comfortable.',\n",
       " ' Average shoes👞',\n",
       " ' Excellent buy',\n",
       " ' Awesome shoes',\n",
       " ' I like it..',\n",
       " ' No good.',\n",
       " ' Best Value for money',\n",
       " 'Best for go',\n",
       " ' Orginal product',\n",
       " ' Shole best👍',\n",
       " \" Poor man's Puma\",\n",
       " ' Useless product',\n",
       " ' Amazing deal for 529 (size 8)',\n",
       " ' 1',\n",
       " \" Sole is too soft. Doesn't feel like a shoe .\",\n",
       " ' Super',\n",
       " 'Best walking shoes',\n",
       " ' quality sega bed',\n",
       " ' Sariska size Sega ka chhota humko 10 number chahie',\n",
       " \" Doesn't g\",\n",
       " ' 100 rupees product',\n",
       " ' Local quality',\n",
       " 'ok',\n",
       " ' EXCELLENT',\n",
       " ' good 👍',\n",
       " ' in 317',\n",
       " ' Order one size small',\n",
       " ' Walking shoes',\n",
       " ' Size small',\n",
       " ' Excellent quality',\n",
       " ' Not too good',\n",
       " 'Duplicate product',\n",
       " ' Best 1',\n",
       " ' Yay!!!',\n",
       " 'Hii',\n",
       " ' Colour defect',\n",
       " 'Superb quality',\n",
       " 'Looking Good',\n",
       " 'SHOES FOR RUNNING',\n",
       " ' GOOD LOOKING BUT NOT COMFORTABLE',\n",
       " ' Excellent product  Thanks Mikaasa',\n",
       " ' 2good',\n",
       " \" Mikaasa Shose don't buy.\",\n",
       " ' Loveable product',\n",
       " ' Supper quality',\n",
       " ' Best qwalit2',\n",
       " ' Just awesome',\n",
       " ' I LOVE IT',\n",
       " ' Goid',\n",
       " 'product quality',\n",
       " ' bhut majedar product hai',\n",
       " 'Nice',\n",
       " ' Nice n comfy',\n",
       " ' BATA IS KING',\n",
       " ' Not good aur not bad',\n",
       " ' Wonderfull',\n",
       " ' Excellent👍👍👍',\n",
       " ' Looks and feel like woodland',\n",
       " ' Comfy and affordable',\n",
       " ' Packing damage',\n",
       " ' Not trutsable',\n",
       " ' Itne pese me yahi to aayega',\n",
       " 'Comftebal',\n",
       " ' Four Stars',\n",
       " ' Thank you Amazon',\n",
       " ' Good for daily use',\n",
       " 'Decent sneakers',\n",
       " ' Good deal',\n",
       " ' Spend less and get best',\n",
       " ' Nothing else',\n",
       " ' .',\n",
       " ' Felt for left and right',\n",
       " ' Pocket-friendly Bata',\n",
       " 'Tilzon Thankachan',\n",
       " ' Too good.',\n",
       " ' Fantastic',\n",
       " ' Bad Experience',\n",
       " ' Nice but noisy',\n",
       " ' NOT FOR RUNNING ❌',\n",
       " ' Not suitable for me sir',\n",
       " ' Best in Yuuvi',\n",
       " ' Avrage quality.',\n",
       " 'Best shoes under 1k',\n",
       " ' Best Budget Shoes',\n",
       " ' order one size large',\n",
       " ' Not quiet',\n",
       " \" Doesn't last\",\n",
       " ' Little more large.',\n",
       " 'Osm',\n",
       " ' Size problem',\n",
       " ' Comfortable',\n",
       " ' Good luck',\n",
       " 'Superb n comfortable pairs ...',\n",
       " ' Makes embarrassing noise on tiles floor',\n",
       " ' Great for running',\n",
       " ' Pakka Grand Shoes',\n",
       " ' Best in 599',\n",
       " ' verynice',\n",
       " ' VFM',\n",
       " ' Poor quality not durable',\n",
       " ' Ok li',\n",
       " ' Too good ..👌👍',\n",
       " ' Great product',\n",
       " ' Power got Power',\n",
       " ' Very nice',\n",
       " 'Paisa vasool',\n",
       " ' Nice Buy',\n",
       " ' DISAPPOINTED',\n",
       " ' 1 no.',\n",
       " ' GOOD PRODUCT FOR SMALL USAGE NOT FOR LONG USAGE',\n",
       " ' Nice 👍',\n",
       " ' Best shoes for running or jogging pocket friendly and used as for site engg also.',\n",
       " ' Sole got removed',\n",
       " 'comfortable',\n",
       " ' Best product',\n",
       " ' Good for walks',\n",
       " ' looks old',\n",
       " ' Fantastic 😊',\n",
       " ' Val',\n",
       " ' Feet Soft feelings',\n",
       " 'very good Shoes',\n",
       " ' PATHETIC PRODUCT',\n",
       " ' Size was good',\n",
       " ' Light weight',\n",
       " \" I'm happy\",\n",
       " 'nice one',\n",
       " ' Mindbobling😉',\n",
       " ' Very nice.',\n",
       " ' Good for jogger and runner',\n",
       " ' Helpful product',\n",
       " ' REFURBRISHED SHOES',\n",
       " 'Grip is good',\n",
       " ' Happy',\n",
       " ' Excellent shoes..',\n",
       " 'Disappointing',\n",
       " ' Value to money',\n",
       " ' Can buy happily',\n",
       " ' Good shoe',\n",
       " ' Best product quality',\n",
       " ' Not advisable',\n",
       " ' Not buy',\n",
       " ' Waste product',\n",
       " 'Very nice product',\n",
       " ' Good...',\n",
       " ' very bed',\n",
       " ' Size issue.',\n",
       " ' Very satisfying',\n",
       " 'Buy a size larger',\n",
       " ' Go ahead',\n",
       " ' Not fitting i returned',\n",
       " ' Damaged product delivered',\n",
       " ' True to price.',\n",
       " ' Not ok for trekking',\n",
       " 'Superb & perfect fit',\n",
       " ' Miserable product.....',\n",
       " ' Cheap n best',\n",
       " ' Duplicate product .',\n",
       " ' Comfortable..',\n",
       " ' No air passage',\n",
       " 'Good I like it',\n",
       " ' So so',\n",
       " '👏🏻👏🏻👌🏻👌🏻',\n",
       " ' 10 days main hi side se nikal gaya',\n",
       " 'Great job amazon.',\n",
       " ' Good buy',\n",
       " ' Bourge just awesome',\n",
       " 'I GOT A POWER',\n",
       " ' Good Buy.',\n",
       " ' One size bigger to original size',\n",
       " ' Good Shoe',\n",
       " \" I'm dissatisfied.\",\n",
       " ' Maintain quality',\n",
       " ' Nice 👏👏😊😊',\n",
       " ' Great deal',\n",
       " ' WORTH MONEY',\n",
       " ' A',\n",
       " ' Improvement require in size',\n",
       " ' Gud one',\n",
       " ' Ridiculous Size Issue!',\n",
       " ' « Made In India »',\n",
       " ' Shoe is quite comfortable but due to no air flow',\n",
       " ' Ok but not useful for running',\n",
       " ' Could be better fitting.',\n",
       " ' QUALITY GOOD AND PERFECT FIT',\n",
       " ' Average.',\n",
       " ' Very stiff',\n",
       " ' Best for runners',\n",
       " ' Good fit Good looks.',\n",
       " ' Awesome!!',\n",
       " ' Superb Buy',\n",
       " ' Centrino..!',\n",
       " ' Wow product',\n",
       " ' Roadside',\n",
       " ' One word Nyc',\n",
       " ' Froud',\n",
       " ' SUPER COMFY SHOES',\n",
       " ' .nice',\n",
       " ' Better quality',\n",
       " ' quality',\n",
       " ' 👌',\n",
       " ' Suits your requirement',\n",
       " ' No quality',\n",
       " ' Superb 👌',\n",
       " ' Mast hai lelo☺️',\n",
       " ' Super product',\n",
       " ' Jaise dikhay waise quality nahi hai',\n",
       " 'Comfortable',\n",
       " ' Shoew',\n",
       " 'So So',\n",
       " ' Go for better one like sega',\n",
       " ' good ok product',\n",
       " ' Good.... nyzzz 👍👍👍😁',\n",
       " ' Shoe looks dam standard',\n",
       " ' Usage after 5 months',\n",
       " ' best for beginners',\n",
       " ' Friendly fit for feet',\n",
       " ' ALL IN ONE',\n",
       " 'Looks good. But does not lasts long.',\n",
       " ' Order one size lesser',\n",
       " ' Fabulous',\n",
       " ' Product dammag',\n",
       " ' Shoes review',\n",
       " ' Qlity Bakwaas',\n",
       " ' Item chenge',\n",
       " ' Above average',\n",
       " ' Bad experience',\n",
       " ' Beautiful',\n",
       " ' Duplicate',\n",
       " ' Not good!',\n",
       " ' Need improvement',\n",
       " 'A great product at a great price.',\n",
       " ' Below par',\n",
       " ' Faltu me liya',\n",
       " ' ❤️',\n",
       " ' Excellent fit.',\n",
       " 'Very good shoes',\n",
       " ' Overall review',\n",
       " ' Comfortable and budget friendly 😊😍',\n",
       " ' Bad packing',\n",
       " 'Item model is different',\n",
       " ' Looks',\n",
       " ' Packaging Is Garbage.',\n",
       " ' Fake Ones',\n",
       " ' Awesome brand',\n",
       " 'MUST BUY!!!',\n",
       " ' I Hit 5 stars',\n",
       " ' ADIDAS SPORTS SHOES',\n",
       " ' Fake & duplicate product',\n",
       " ' NOT FOR GYM OR RUNNING AT ALL.',\n",
       " 'Duplicate products',\n",
       " ' Nice product 👌',\n",
       " ' Not good. Sole wore within 2-3 weeks...',\n",
       " \" Doesn't seem like original quality\",\n",
       " ' Terrific',\n",
       " ' Decent Shoes',\n",
       " ' मेरे मनपसंद जूते।',\n",
       " ' I m confused',\n",
       " ' 🤘🏻',\n",
       " ' awesome',\n",
       " ' Worst saler. No inner sole',\n",
       " ' Bad and verry hard sole like stone',\n",
       " ' Very vood shoes',\n",
       " ' Rahul',\n",
       " ' Buy one size bigger',\n",
       " ' Feels cheap..!',\n",
       " 'कुछ नही कहा जा सकता कि यह प्रोडक्ट रीयल है या इसकी कॉपी की गई है।',\n",
       " ' 3rd grade quality',\n",
       " ' Excellent.',\n",
       " ' 💥💥💥💥',\n",
       " ' साइज छोटा है लेकिन प्रोडक्ट अच्छा है।',\n",
       " ' Best price',\n",
       " ' On smaller size',\n",
       " ' Very poor',\n",
       " ' Very bad experience',\n",
       " \" don't buy during sale\",\n",
       " ' duplicate products',\n",
       " ' Duplicate PUMA',\n",
       " ' Not sure',\n",
       " ' So good.',\n",
       " ' Awesome👌',\n",
       " ' Amazing💕',\n",
       " ' Cheap Adidas Look alike.',\n",
       " ' All good',\n",
       " ' Size Issue',\n",
       " ' Size issue',\n",
       " ' Offline shopping suggested',\n",
       " ' Duplicate Product',\n",
       " ' Side paisting Not good',\n",
       " '👍 excellent.',\n",
       " ' Nice quality',\n",
       " ' Value Buy',\n",
       " ' Elegant look',\n",
       " ' BestBuyFromReebok',\n",
       " ' Fake',\n",
       " 'Size issue',\n",
       " ' Awesome👍👏😊 😍🥰',\n",
       " '👌👌👌',\n",
       " ' Good design',\n",
       " ' Ek aise bada...order kare',\n",
       " ' Excellent Shoe',\n",
       " ' Worst sole ever!',\n",
       " ' REEBOK RUNNING SHOE',\n",
       " 'So far so good',\n",
       " ' Colour comfort quality',\n",
       " ' Shoes are just ok.',\n",
       " '👌',\n",
       " ' Complaint',\n",
       " ' Uncomfortable | Originality is questionable | Non recommendable',\n",
       " ' I like the shoe.',\n",
       " ' Waste',\n",
       " ' Verify Shoe size before buy',\n",
       " ' Nice product 👌👌',\n",
       " ' WORST SHOES',\n",
       " 'Average',\n",
       " ' Just Amazing',\n",
       " ' Reebok size9 shoes',\n",
       " ' Got better no best',\n",
       " ' Great quality',\n",
       " ' Campus = quality',\n",
       " ' Thak you Amazon',\n",
       " ' Looks not real',\n",
       " ' not ok',\n",
       " ' Best Product',\n",
       " ' Comfortable shoes i like it',\n",
       " ' Super comfortable',\n",
       " ' Go crazy. Go fit.',\n",
       " ' Attractions ❤️😍🥰🔥',\n",
       " ' Very bed shoes',\n",
       " ' Viry nice',\n",
       " ' A duplicate product',\n",
       " ' Unfit fake',\n",
       " ' Verified Purchase',\n",
       " 'Duplicate dont buy',\n",
       " ' Hot',\n",
       " ' Sole failure',\n",
       " ' QUITE GOOD BUT ______',\n",
       " ' excellent boot',\n",
       " ' Dapper Super Amazing',\n",
       " ' GENIUNE AND STYLISH BY 007',\n",
       " 'VERY POOR QUALITY SHOES!',\n",
       " ' Renegade',\n",
       " ' Must Buy...',\n",
       " ' Well Getup',\n",
       " 'Super',\n",
       " 'FAKE HUSH PUPPIES SHOES.',\n",
       " ' FAKE PRODUCE',\n",
       " ' beautiful product',\n",
       " 'Good👍',\n",
       " ' supper qualty',\n",
       " ' Gud',\n",
       " ' FAKE PRODUCT',\n",
       " ' An average product',\n",
       " ' Fits well',\n",
       " ' Excellent choice',\n",
       " 'Nonsense product',\n",
       " ' Order Bindas',\n",
       " 'Insole Damaged',\n",
       " ' Not Valuable Product',\n",
       " ' Nice.',\n",
       " ' Product as described',\n",
       " ' Supar',\n",
       " ' Refund',\n",
       " ' Best for beginner',\n",
       " ' Nice 👌👌👍',\n",
       " ' amazing',\n",
       " ' Good Shoes.',\n",
       " ' Smaller fit',\n",
       " ' Size a bit small.',\n",
       " 'Verified Purchase',\n",
       " '5*',\n",
       " ' Shoe size 6 number order',\n",
       " ' Ab waqt hamara hai',\n",
       " 'Mast',\n",
       " ' Disappointed doesn’t seem like genuine leather',\n",
       " ' Genuine product',\n",
       " ' 😟😟😟😟😟😟',\n",
       " ' VERY DURABLE AND FOR HEAVY DUTY USAGE',\n",
       " ' Duplicate product',\n",
       " ' godd buy it',\n",
       " ' Must Buy',\n",
       " ' वाहियात चीज.',\n",
       " ' Best budget running shoes',\n",
       " ' Light in weight',\n",
       " ' Excellent and comport',\n",
       " ' गलत प्रोडक्ट',\n",
       " ' amazingnice',\n",
       " ' Not as looks online',\n",
       " 'Seems fake',\n",
       " ' Awful product',\n",
       " ' Heavy',\n",
       " ' Nice color',\n",
       " ' Gud shoes',\n",
       " ' Superb..',\n",
       " 'Not for walking jogging.',\n",
       " ' Valuable',\n",
       " ' Ok Ok',\n",
       " ' Size is issue.',\n",
       " ' Awsm',\n",
       " \" Buy if it's under 2k.\",\n",
       " ' Feels like walking on foam bed',\n",
       " ' Niceee☺️',\n",
       " ' Awesome...',\n",
       " ' Ok.',\n",
       " ' did not like it.',\n",
       " \"Size doesn't fit\",\n",
       " ' Just OK',\n",
       " 'Ultra Comfortable',\n",
       " \" I'm satisfied\",\n",
       " ' Used shoes delivered',\n",
       " ' Overall Okay.',\n",
       " ' Recommend',\n",
       " ' NOT VALUE FOR MONEY',\n",
       " ' Bad upper quality',\n",
       " ' Wrong size',\n",
       " ' vvi',\n",
       " ' Quantity',\n",
       " ' superb product',\n",
       " ' Slippery',\n",
       " ' Best shoes in budget under 1500',\n",
       " ' Large in size',\n",
       " 'Good shoes',\n",
       " ' DAMAGED AFTER 2 MONTHS',\n",
       " ' Fitting problem',\n",
       " 'Good for daily usage',\n",
       " ' POOR QUALITY',\n",
       " ' Spectacular product.',\n",
       " ' Bad laces',\n",
       " 'Duplicate Product',\n",
       " ' Good 😊 Budget Sneakers',\n",
       " ' Superb Shoes',\n",
       " ' Comfort Masterpiece',\n",
       " ' size different',\n",
       " ' Aaaawwwsome',\n",
       " ' Return lene aa jao amazon walon jo date diya karo uspe kamse kam dhyan rakha karo',\n",
       " ' Hi',\n",
       " ' Loosee Fitting Shoes',\n",
       " 'not suitable for running',\n",
       " ' Design',\n",
       " ' Osm',\n",
       " ' LOW QUALITY PRODUCT .',\n",
       " ' best grip shoes for running...',\n",
       " ' NICE SHOES FOR SOMEONE WHICH IS HAVING PROBLEM IN LEGS',\n",
       " ' 5 stars',\n",
       " ' excellent product',\n",
       " 'Bad',\n",
       " ' Elegant',\n",
       " ' Nice product frm amazon',\n",
       " ' PATHATIC',\n",
       " ' Good so far',\n",
       " ' Qualti and price',\n",
       " ' To good',\n",
       " ' Ek dum jaakaass bidu',\n",
       " ' Good for normal jogging...',\n",
       " 'Fake & duplicate product',\n",
       " ' Adidas Rocks',\n",
       " ' Awesome ✔',\n",
       " ' NOT GENUINE!!',\n",
       " ' Original & comfortable',\n",
       " ' Shoe bite',\n",
       " ' 5*****',\n",
       " ' Shoe Review',\n",
       " ' Fake shoe',\n",
       " ' Small size',\n",
       " 'JUST Okay 👍',\n",
       " ' Packaging was badly damaged',\n",
       " ' Shoebite',\n",
       " ' good buy . .',\n",
       " ' Seems not genuine product',\n",
       " 'Genuine Product',\n",
       " ' बहुत अच्छा है',\n",
       " ' bad',\n",
       " ' very good shoes',\n",
       " ' NOTE',\n",
       " ' 😍😍😍😍😍😍😍😍😍😍😍😍',\n",
       " ' Not a comfortable',\n",
       " ' best best',\n",
       " 'Awesome one.',\n",
       " ' Alomost good',\n",
       " ' Fake Adidas',\n",
       " ' Adidas - Go for it',\n",
       " ' Vimal Pandya',\n",
       " ' Perfect except size.',\n",
       " ' GENUINE product',\n",
       " ' Improve quality',\n",
       " ' Suparbbb...',\n",
       " ' AWESOME PAIR OF SHOES',\n",
       " ' Perfect size',\n",
       " ' Comfortable Ride',\n",
       " ' Good pair',\n",
       " 'Wow',\n",
       " ' 5',\n",
       " ' Wow',\n",
       " ' Small costly',\n",
       " ' Average look',\n",
       " 'Love it',\n",
       " ' perfect fit',\n",
       " ' OK ok product.',\n",
       " ' Zzzzbaaarddaasssttt',\n",
       " ' Value fr money',\n",
       " ' Sole n outside design is awesome. Even seller sent original product',\n",
       " ' Amazing Puma Shoes',\n",
       " ' Best for running',\n",
       " ' Order 1 num extra to your size.',\n",
       " ' DUPALICATE SHOEH',\n",
       " ' Rugged Sneakers.',\n",
       " ' Fully damaged box.',\n",
       " ' Best Shos',\n",
       " ' Fantastic !',\n",
       " ' Keep it up Amazon.',\n",
       " ' Same as pic',\n",
       " 'Not good',\n",
       " ' Super comfortable & great value',\n",
       " ' Thanks Amazon',\n",
       " 'Too bad',\n",
       " ' I love it',\n",
       " ' Looking nice',\n",
       " ' Avoid',\n",
       " ' Amazing fit n design',\n",
       " ' Comfortable for long runs',\n",
       " ' साइज चार्ट गलत',\n",
       " ' Ridiculous Shoes😠',\n",
       " ' Not bad just ok ok',\n",
       " ' genuiene',\n",
       " 'Fake addidas',\n",
       " 'Thankyou Amazon',\n",
       " 'Superb',\n",
       " 'Size keeps on changing',\n",
       " 'Nike',\n",
       " ' DUPLICATE PRODUCT',\n",
       " ' Todos Nike',\n",
       " ' Nike original for sure',\n",
       " 'Good luking',\n",
       " ' Poorrrrrr',\n",
       " ' Packaging was veryy bad',\n",
       " 'Super puma brand',\n",
       " ' Is 6.5uk size available?',\n",
       " ' Not sooo Good',\n",
       " ' Sketcher joggunyshoes',\n",
       " ' Just WOW',\n",
       " ' excellent',\n",
       " ' Excellent... Go for it',\n",
       " ' Walk like never before 👍',\n",
       " ' Impressive prroduct',\n",
       " 'Excellent shoes',\n",
       " ' Good for running.',\n",
       " ' ASICS AND PUMA BOTH ARE BEST',\n",
       " ' Redchief nice product',\n",
       " ' Very good delivery',\n",
       " 'Excellent product.',\n",
       " ' Make embarrassing sound',\n",
       " ' Buy it if u dont ride bike.',\n",
       " 'Nice Product',\n",
       " ' Excellent service',\n",
       " ' Strong but long',\n",
       " ' Hhaha',\n",
       " ' Good for running.....',\n",
       " 'Ok.',\n",
       " ' Thanks amazon!!!',\n",
       " ' Very good shoes. Feel like you are walking on carpet ...',\n",
       " ' Great walking shoes',\n",
       " ' Most comfortable pair ever',\n",
       " ' Ok ok product',\n",
       " ' Better than market retail',\n",
       " ' 5 🌟',\n",
       " ' good degine',\n",
       " ' Size is small',\n",
       " ' Kiran Jagtap 2020',\n",
       " ' Packing not good',\n",
       " ' Excellent Original Comfortable Sports Shoes',\n",
       " ' Similar larg',\n",
       " ' Olive uk41 stok kiya jaye mere leye',\n",
       " ' Marvelous',\n",
       " ' excellent price',\n",
       " ' Quite good!',\n",
       " ' Go skechers',\n",
       " ' Fake adidas shoes',\n",
       " ' Wonderful product',\n",
       " ' fit',\n",
       " ' Keka',\n",
       " ' Faltu',\n",
       " 'Happy',\n",
       " ' Awesome 5 star 👌😍👍',\n",
       " ' True value for money',\n",
       " ' Thankyou Amazon',\n",
       " ' Buy 1 size bigger',\n",
       " ' VALUE FOR MONEY',\n",
       " ' Poorest quality',\n",
       " ' Pesting is very poor.',\n",
       " ' Amazing.',\n",
       " ' Nice☺',\n",
       " ' fake product delevard',\n",
       " ' Fantastic quality',\n",
       " ' A Masterpiece.',\n",
       " ' Excellent Boots',\n",
       " 'Fitting',\n",
       " ' Super quality',\n",
       " ' Cheapest deal',\n",
       " 'Not bad',\n",
       " ' बकवास आइटम',\n",
       " ' Zero comfort',\n",
       " ' Chand mae bhi daag hae',\n",
       " ' Disatisfied',\n",
       " ' Got fake one.',\n",
       " ' Bulls eye 💯',\n",
       " ' Geniune Product !',\n",
       " ' Not impressive',\n",
       " ' Picture Perfect 👌',\n",
       " ' Big size',\n",
       " ' Product achcha hai magar fitting samasya hai',\n",
       " ' Not all size in stock',\n",
       " ' Stay Away',\n",
       " 'Duplicate product received!',\n",
       " ' Not good.',\n",
       " ' Best Shoe',\n",
       " 'Fake',\n",
       " ' Its like walking on clouds soo good',\n",
       " ' Classic',\n",
       " \" Don't buy it\",\n",
       " 'Nice fitting',\n",
       " ' Small saze',\n",
       " ' Not happy',\n",
       " ' Wrost experience',\n",
       " ' So uncomfortable',\n",
       " ' 100 cent recommended',\n",
       " 'Not for sports',\n",
       " ' colour',\n",
       " ' Local packaging',\n",
       " ' Heavy look',\n",
       " ' Bad supplier',\n",
       " ' Would have been better',\n",
       " ' Excellent model.',\n",
       " 'Exellent 👌🏻',\n",
       " ' Okkk',\n",
       " ' Genniuine product',\n",
       " \" Doesn't feel original\",\n",
       " ' P',\n",
       " ' Duplicate item',\n",
       " ' Duplicate item.',\n",
       " ' Most valuable',\n",
       " ' Feels not original',\n",
       " ' Looks Much Better in Real',\n",
       " ' Excellent Product',\n",
       " ' Love',\n",
       " ' 💯',\n",
       " ' Looks nice',\n",
       " ' Best 💯',\n",
       " ' DISAPPOINTMENT',\n",
       " ' Very good 👍',\n",
       " ' Just good',\n",
       " ' Awesome 😊.',\n",
       " ' Beautiful Shoes',\n",
       " 'Luking great',\n",
       " ' Comfortable value for money(i spend 2000rs',\n",
       " ' Loved Amazon',\n",
       " 'Nc',\n",
       " ' Looks amazing',\n",
       " ' Fine product!',\n",
       " ' I liked it',\n",
       " ' Ok no bad product',\n",
       " ' Excellent 👍👍',\n",
       " 'Excellent product',\n",
       " ' I like it',\n",
       " ' Not good for running',\n",
       " ' Unstable form',\n",
       " 'ACCURATE SHOES...QUITE SATISFIED',\n",
       " ' Good for jogging',\n",
       " ' Size 12..good fit',\n",
       " ' Best Shoes',\n",
       " ' best',\n",
       " ' I love it 😍',\n",
       " ' PARESH SAHU',\n",
       " ' Genuine Product .',\n",
       " ' Local brand puma logo',\n",
       " ' Impressive',\n",
       " ' Not durable',\n",
       " ...]"
      ]
     },
     "execution_count": 108,
     "metadata": {},
     "output_type": "execute_result"
    }
   ],
   "source": [
    "df[df['review_lang'] != 'en']['review'].unique().tolist()"
   ]
  },
  {
   "cell_type": "markdown",
   "metadata": {},
   "source": [
    "Прошлый метод плохо отфильтровывает короткие отзывы на английском. Поступим иначе: посмотрим, есть ли латинские буквы в отзыве, а впоследствии уберем нечастотные слова и слишком короткие отзывы."
   ]
  },
  {
   "cell_type": "code",
   "execution_count": 109,
   "metadata": {},
   "outputs": [],
   "source": [
    "def detect_alpha(x):\n",
    "    x = re.sub('[^a-z]', '', x.lower())\n",
    "    if x != '':\n",
    "        return True\n",
    "    else:\n",
    "        return False"
   ]
  },
  {
   "cell_type": "code",
   "execution_count": 110,
   "metadata": {},
   "outputs": [
    {
     "name": "stdout",
     "output_type": "stream",
     "text": [
      "Wall time: 14 ms\n"
     ]
    }
   ],
   "source": [
    "%%time\n",
    "df['review_lang'] = df['review'].transform(lambda x: detect_alpha(x))"
   ]
  },
  {
   "cell_type": "code",
   "execution_count": 111,
   "metadata": {
    "scrolled": true
   },
   "outputs": [
    {
     "data": {
      "text/html": [
       "<div>\n",
       "<style scoped>\n",
       "    .dataframe tbody tr th:only-of-type {\n",
       "        vertical-align: middle;\n",
       "    }\n",
       "\n",
       "    .dataframe tbody tr th {\n",
       "        vertical-align: top;\n",
       "    }\n",
       "\n",
       "    .dataframe thead th {\n",
       "        text-align: right;\n",
       "    }\n",
       "</style>\n",
       "<table border=\"1\" class=\"dataframe\">\n",
       "  <thead>\n",
       "    <tr style=\"text-align: right;\">\n",
       "      <th></th>\n",
       "      <th>review</th>\n",
       "      <th>review_rating</th>\n",
       "      <th>review_lang</th>\n",
       "    </tr>\n",
       "  </thead>\n",
       "  <tbody>\n",
       "    <tr>\n",
       "      <th>212</th>\n",
       "      <td>बहुत ही खराब सामान</td>\n",
       "      <td>2.0 out of 5 stars</td>\n",
       "      <td>False</td>\n",
       "    </tr>\n",
       "    <tr>\n",
       "      <th>349</th>\n",
       "      <td>5*</td>\n",
       "      <td>5.0 out of 5 stars</td>\n",
       "      <td>False</td>\n",
       "    </tr>\n",
       "    <tr>\n",
       "      <th>402</th>\n",
       "      <td>सुझाव</td>\n",
       "      <td>2.0 out of 5 stars</td>\n",
       "      <td>False</td>\n",
       "    </tr>\n",
       "    <tr>\n",
       "      <th>583</th>\n",
       "      <td>👎🏻</td>\n",
       "      <td>1.0 out of 5 stars</td>\n",
       "      <td>False</td>\n",
       "    </tr>\n",
       "    <tr>\n",
       "      <th>585</th>\n",
       "      <td>⭐️⭐️⭐️⭐️⭐️</td>\n",
       "      <td>5.0 out of 5 stars</td>\n",
       "      <td>False</td>\n",
       "    </tr>\n",
       "    <tr>\n",
       "      <th>788</th>\n",
       "      <td>2</td>\n",
       "      <td>2.0 out of 5 stars</td>\n",
       "      <td>False</td>\n",
       "    </tr>\n",
       "    <tr>\n",
       "      <th>952</th>\n",
       "      <td>बहुत बढिया</td>\n",
       "      <td>5.0 out of 5 stars</td>\n",
       "      <td>False</td>\n",
       "    </tr>\n",
       "    <tr>\n",
       "      <th>986</th>\n",
       "      <td>..</td>\n",
       "      <td>5.0 out of 5 stars</td>\n",
       "      <td>False</td>\n",
       "    </tr>\n",
       "    <tr>\n",
       "      <th>1186</th>\n",
       "      <td>😠😠😠</td>\n",
       "      <td>1.0 out of 5 stars</td>\n",
       "      <td>False</td>\n",
       "    </tr>\n",
       "    <tr>\n",
       "      <th>1269</th>\n",
       "      <td>👍</td>\n",
       "      <td>5.0 out of 5 stars</td>\n",
       "      <td>False</td>\n",
       "    </tr>\n",
       "    <tr>\n",
       "      <th>1356</th>\n",
       "      <td>1</td>\n",
       "      <td>1.0 out of 5 stars</td>\n",
       "      <td>False</td>\n",
       "    </tr>\n",
       "    <tr>\n",
       "      <th>1662</th>\n",
       "      <td>.</td>\n",
       "      <td>1.0 out of 5 stars</td>\n",
       "      <td>False</td>\n",
       "    </tr>\n",
       "    <tr>\n",
       "      <th>2269</th>\n",
       "      <td>👏🏻👏🏻👌🏻👌🏻</td>\n",
       "      <td>5.0 out of 5 stars</td>\n",
       "      <td>False</td>\n",
       "    </tr>\n",
       "    <tr>\n",
       "      <th>2453</th>\n",
       "      <td>👌</td>\n",
       "      <td>5.0 out of 5 stars</td>\n",
       "      <td>False</td>\n",
       "    </tr>\n",
       "    <tr>\n",
       "      <th>2621</th>\n",
       "      <td>❤️</td>\n",
       "      <td>5.0 out of 5 stars</td>\n",
       "      <td>False</td>\n",
       "    </tr>\n",
       "    <tr>\n",
       "      <th>2725</th>\n",
       "      <td>मेरे मनपसंद जूते।</td>\n",
       "      <td>5.0 out of 5 stars</td>\n",
       "      <td>False</td>\n",
       "    </tr>\n",
       "    <tr>\n",
       "      <th>2730</th>\n",
       "      <td>🤘🏻</td>\n",
       "      <td>5.0 out of 5 stars</td>\n",
       "      <td>False</td>\n",
       "    </tr>\n",
       "    <tr>\n",
       "      <th>2788</th>\n",
       "      <td>कुछ नही कहा जा सकता कि यह प्रोडक्ट रीयल है या ...</td>\n",
       "      <td>1.0 out of 5 stars</td>\n",
       "      <td>False</td>\n",
       "    </tr>\n",
       "    <tr>\n",
       "      <th>2802</th>\n",
       "      <td>💥💥💥💥</td>\n",
       "      <td>5.0 out of 5 stars</td>\n",
       "      <td>False</td>\n",
       "    </tr>\n",
       "    <tr>\n",
       "      <th>2804</th>\n",
       "      <td>साइज छोटा है लेकिन प्रोडक्ट अच्छा है।</td>\n",
       "      <td>4.0 out of 5 stars</td>\n",
       "      <td>False</td>\n",
       "    </tr>\n",
       "    <tr>\n",
       "      <th>2973</th>\n",
       "      <td>👌👌👌</td>\n",
       "      <td>4.0 out of 5 stars</td>\n",
       "      <td>False</td>\n",
       "    </tr>\n",
       "    <tr>\n",
       "      <th>3028</th>\n",
       "      <td>👌</td>\n",
       "      <td>5.0 out of 5 stars</td>\n",
       "      <td>False</td>\n",
       "    </tr>\n",
       "    <tr>\n",
       "      <th>3445</th>\n",
       "      <td>5*</td>\n",
       "      <td>5.0 out of 5 stars</td>\n",
       "      <td>False</td>\n",
       "    </tr>\n",
       "    <tr>\n",
       "      <th>3479</th>\n",
       "      <td>😟😟😟😟😟😟</td>\n",
       "      <td>3.0 out of 5 stars</td>\n",
       "      <td>False</td>\n",
       "    </tr>\n",
       "    <tr>\n",
       "      <th>3516</th>\n",
       "      <td>वाहियात चीज.</td>\n",
       "      <td>1.0 out of 5 stars</td>\n",
       "      <td>False</td>\n",
       "    </tr>\n",
       "    <tr>\n",
       "      <th>3526</th>\n",
       "      <td>गलत प्रोडक्ट</td>\n",
       "      <td>1.0 out of 5 stars</td>\n",
       "      <td>False</td>\n",
       "    </tr>\n",
       "    <tr>\n",
       "      <th>3989</th>\n",
       "      <td>5*****</td>\n",
       "      <td>5.0 out of 5 stars</td>\n",
       "      <td>False</td>\n",
       "    </tr>\n",
       "    <tr>\n",
       "      <th>4046</th>\n",
       "      <td>बहुत अच्छा है</td>\n",
       "      <td>4.0 out of 5 stars</td>\n",
       "      <td>False</td>\n",
       "    </tr>\n",
       "    <tr>\n",
       "      <th>4056</th>\n",
       "      <td>😍😍😍😍😍😍😍😍😍😍😍😍</td>\n",
       "      <td>5.0 out of 5 stars</td>\n",
       "      <td>False</td>\n",
       "    </tr>\n",
       "    <tr>\n",
       "      <th>4234</th>\n",
       "      <td>5</td>\n",
       "      <td>5.0 out of 5 stars</td>\n",
       "      <td>False</td>\n",
       "    </tr>\n",
       "    <tr>\n",
       "      <th>4356</th>\n",
       "      <td>.</td>\n",
       "      <td>4.0 out of 5 stars</td>\n",
       "      <td>False</td>\n",
       "    </tr>\n",
       "    <tr>\n",
       "      <th>4512</th>\n",
       "      <td>साइज चार्ट गलत</td>\n",
       "      <td>4.0 out of 5 stars</td>\n",
       "      <td>False</td>\n",
       "    </tr>\n",
       "    <tr>\n",
       "      <th>4827</th>\n",
       "      <td>5 🌟</td>\n",
       "      <td>5.0 out of 5 stars</td>\n",
       "      <td>False</td>\n",
       "    </tr>\n",
       "    <tr>\n",
       "      <th>5097</th>\n",
       "      <td>बकवास आइटम</td>\n",
       "      <td>1.0 out of 5 stars</td>\n",
       "      <td>False</td>\n",
       "    </tr>\n",
       "    <tr>\n",
       "      <th>5366</th>\n",
       "      <td>💯</td>\n",
       "      <td>5.0 out of 5 stars</td>\n",
       "      <td>False</td>\n",
       "    </tr>\n",
       "    <tr>\n",
       "      <th>5544</th>\n",
       "      <td>बहुत ही पुअर उत्पाद है न खरीदें।</td>\n",
       "      <td>1.0 out of 5 stars</td>\n",
       "      <td>False</td>\n",
       "    </tr>\n",
       "    <tr>\n",
       "      <th>5855</th>\n",
       "      <td>🤫</td>\n",
       "      <td>5.0 out of 5 stars</td>\n",
       "      <td>False</td>\n",
       "    </tr>\n",
       "    <tr>\n",
       "      <th>6048</th>\n",
       "      <td>जूता खराब हो गया</td>\n",
       "      <td>1.0 out of 5 stars</td>\n",
       "      <td>False</td>\n",
       "    </tr>\n",
       "    <tr>\n",
       "      <th>6156</th>\n",
       "      <td>👎</td>\n",
       "      <td>2.0 out of 5 stars</td>\n",
       "      <td>False</td>\n",
       "    </tr>\n",
       "    <tr>\n",
       "      <th>6362</th>\n",
       "      <td>🔥🔥🔥</td>\n",
       "      <td>5.0 out of 5 stars</td>\n",
       "      <td>False</td>\n",
       "    </tr>\n",
       "    <tr>\n",
       "      <th>6449</th>\n",
       "      <td>..</td>\n",
       "      <td>2.0 out of 5 stars</td>\n",
       "      <td>False</td>\n",
       "    </tr>\n",
       "    <tr>\n",
       "      <th>6620</th>\n",
       "      <td>😋</td>\n",
       "      <td>5.0 out of 5 stars</td>\n",
       "      <td>False</td>\n",
       "    </tr>\n",
       "    <tr>\n",
       "      <th>6739</th>\n",
       "      <td>....</td>\n",
       "      <td>4.0 out of 5 stars</td>\n",
       "      <td>False</td>\n",
       "    </tr>\n",
       "    <tr>\n",
       "      <th>6779</th>\n",
       "      <td>100%</td>\n",
       "      <td>5.0 out of 5 stars</td>\n",
       "      <td>False</td>\n",
       "    </tr>\n",
       "    <tr>\n",
       "      <th>7066</th>\n",
       "      <td>👍🏼👍🏼👍🏼</td>\n",
       "      <td>4.0 out of 5 stars</td>\n",
       "      <td>False</td>\n",
       "    </tr>\n",
       "    <tr>\n",
       "      <th>7084</th>\n",
       "      <td>🇳 🇮 🇨 🇪</td>\n",
       "      <td>4.0 out of 5 stars</td>\n",
       "      <td>False</td>\n",
       "    </tr>\n",
       "    <tr>\n",
       "      <th>7137</th>\n",
       "      <td>👍👍👍👍👍</td>\n",
       "      <td>5.0 out of 5 stars</td>\n",
       "      <td>False</td>\n",
       "    </tr>\n",
       "    <tr>\n",
       "      <th>7356</th>\n",
       "      <td>👌👌</td>\n",
       "      <td>5.0 out of 5 stars</td>\n",
       "      <td>False</td>\n",
       "    </tr>\n",
       "    <tr>\n",
       "      <th>7463</th>\n",
       "      <td>பிடித்துள்ளது</td>\n",
       "      <td>5.0 out of 5 stars</td>\n",
       "      <td>False</td>\n",
       "    </tr>\n",
       "    <tr>\n",
       "      <th>7561</th>\n",
       "      <td>.</td>\n",
       "      <td>3.0 out of 5 stars</td>\n",
       "      <td>False</td>\n",
       "    </tr>\n",
       "    <tr>\n",
       "      <th>7755</th>\n",
       "      <td>👍</td>\n",
       "      <td>4.0 out of 5 stars</td>\n",
       "      <td>False</td>\n",
       "    </tr>\n",
       "    <tr>\n",
       "      <th>7837</th>\n",
       "      <td>😍</td>\n",
       "      <td>5.0 out of 5 stars</td>\n",
       "      <td>False</td>\n",
       "    </tr>\n",
       "    <tr>\n",
       "      <th>8704</th>\n",
       "      <td>👍👍👍</td>\n",
       "      <td>5.0 out of 5 stars</td>\n",
       "      <td>False</td>\n",
       "    </tr>\n",
       "    <tr>\n",
       "      <th>9041</th>\n",
       "      <td>😍😍</td>\n",
       "      <td>5.0 out of 5 stars</td>\n",
       "      <td>False</td>\n",
       "    </tr>\n",
       "    <tr>\n",
       "      <th>9429</th>\n",
       "      <td>.</td>\n",
       "      <td>5.0 out of 5 stars</td>\n",
       "      <td>False</td>\n",
       "    </tr>\n",
       "  </tbody>\n",
       "</table>\n",
       "</div>"
      ],
      "text/plain": [
       "                                                 review        review_rating  \\\n",
       "212                                  बहुत ही खराब सामान   2.0 out of 5 stars   \n",
       "349                                                  5*   5.0 out of 5 stars   \n",
       "402                                               सुझाव   2.0 out of 5 stars   \n",
       "583                                                  👎🏻   1.0 out of 5 stars   \n",
       "585                                          ⭐️⭐️⭐️⭐️⭐️   5.0 out of 5 stars   \n",
       "788                                                   2   2.0 out of 5 stars   \n",
       "952                                          बहुत बढिया   5.0 out of 5 stars   \n",
       "986                                                  ..   5.0 out of 5 stars   \n",
       "1186                                                😠😠😠   1.0 out of 5 stars   \n",
       "1269                                                  👍   5.0 out of 5 stars   \n",
       "1356                                                  1   1.0 out of 5 stars   \n",
       "1662                                                  .   1.0 out of 5 stars   \n",
       "2269                                           👏🏻👏🏻👌🏻👌🏻   5.0 out of 5 stars   \n",
       "2453                                                  👌   5.0 out of 5 stars   \n",
       "2621                                                 ❤️   5.0 out of 5 stars   \n",
       "2725                                  मेरे मनपसंद जूते।   5.0 out of 5 stars   \n",
       "2730                                                 🤘🏻   5.0 out of 5 stars   \n",
       "2788  कुछ नही कहा जा सकता कि यह प्रोडक्ट रीयल है या ...   1.0 out of 5 stars   \n",
       "2802                                               💥💥💥💥   5.0 out of 5 stars   \n",
       "2804              साइज छोटा है लेकिन प्रोडक्ट अच्छा है।   4.0 out of 5 stars   \n",
       "2973                                                👌👌👌   4.0 out of 5 stars   \n",
       "3028                                                  👌   5.0 out of 5 stars   \n",
       "3445                                                 5*   5.0 out of 5 stars   \n",
       "3479                                             😟😟😟😟😟😟   3.0 out of 5 stars   \n",
       "3516                                       वाहियात चीज.   1.0 out of 5 stars   \n",
       "3526                                       गलत प्रोडक्ट   1.0 out of 5 stars   \n",
       "3989                                             5*****   5.0 out of 5 stars   \n",
       "4046                                      बहुत अच्छा है   4.0 out of 5 stars   \n",
       "4056                                       😍😍😍😍😍😍😍😍😍😍😍😍   5.0 out of 5 stars   \n",
       "4234                                                  5   5.0 out of 5 stars   \n",
       "4356                                                  .   4.0 out of 5 stars   \n",
       "4512                                     साइज चार्ट गलत   4.0 out of 5 stars   \n",
       "4827                                                5 🌟   5.0 out of 5 stars   \n",
       "5097                                         बकवास आइटम   1.0 out of 5 stars   \n",
       "5366                                                  💯   5.0 out of 5 stars   \n",
       "5544                   बहुत ही पुअर उत्पाद है न खरीदें।   1.0 out of 5 stars   \n",
       "5855                                                  🤫   5.0 out of 5 stars   \n",
       "6048                                   जूता खराब हो गया   1.0 out of 5 stars   \n",
       "6156                                                  👎   2.0 out of 5 stars   \n",
       "6362                                                🔥🔥🔥   5.0 out of 5 stars   \n",
       "6449                                                 ..   2.0 out of 5 stars   \n",
       "6620                                                  😋   5.0 out of 5 stars   \n",
       "6739                                               ....   4.0 out of 5 stars   \n",
       "6779                                               100%   5.0 out of 5 stars   \n",
       "7066                                             👍🏼👍🏼👍🏼   4.0 out of 5 stars   \n",
       "7084                                            🇳 🇮 🇨 🇪   4.0 out of 5 stars   \n",
       "7137                                              👍👍👍👍👍   5.0 out of 5 stars   \n",
       "7356                                                 👌👌   5.0 out of 5 stars   \n",
       "7463                                      பிடித்துள்ளது   5.0 out of 5 stars   \n",
       "7561                                                  .   3.0 out of 5 stars   \n",
       "7755                                                  👍   4.0 out of 5 stars   \n",
       "7837                                                  😍   5.0 out of 5 stars   \n",
       "8704                                                👍👍👍   5.0 out of 5 stars   \n",
       "9041                                                 😍😍   5.0 out of 5 stars   \n",
       "9429                                                  .   5.0 out of 5 stars   \n",
       "\n",
       "      review_lang  \n",
       "212         False  \n",
       "349         False  \n",
       "402         False  \n",
       "583         False  \n",
       "585         False  \n",
       "788         False  \n",
       "952         False  \n",
       "986         False  \n",
       "1186        False  \n",
       "1269        False  \n",
       "1356        False  \n",
       "1662        False  \n",
       "2269        False  \n",
       "2453        False  \n",
       "2621        False  \n",
       "2725        False  \n",
       "2730        False  \n",
       "2788        False  \n",
       "2802        False  \n",
       "2804        False  \n",
       "2973        False  \n",
       "3028        False  \n",
       "3445        False  \n",
       "3479        False  \n",
       "3516        False  \n",
       "3526        False  \n",
       "3989        False  \n",
       "4046        False  \n",
       "4056        False  \n",
       "4234        False  \n",
       "4356        False  \n",
       "4512        False  \n",
       "4827        False  \n",
       "5097        False  \n",
       "5366        False  \n",
       "5544        False  \n",
       "5855        False  \n",
       "6048        False  \n",
       "6156        False  \n",
       "6362        False  \n",
       "6449        False  \n",
       "6620        False  \n",
       "6739        False  \n",
       "6779        False  \n",
       "7066        False  \n",
       "7084        False  \n",
       "7137        False  \n",
       "7356        False  \n",
       "7463        False  \n",
       "7561        False  \n",
       "7755        False  \n",
       "7837        False  \n",
       "8704        False  \n",
       "9041        False  \n",
       "9429        False  "
      ]
     },
     "execution_count": 111,
     "metadata": {},
     "output_type": "execute_result"
    }
   ],
   "source": [
    "df[df['review_lang'] == False]"
   ]
  },
  {
   "cell_type": "markdown",
   "metadata": {},
   "source": [
    "Получаем более \"чистый\" результат. Эти отзывы точно можно удалить."
   ]
  },
  {
   "cell_type": "code",
   "execution_count": 112,
   "metadata": {},
   "outputs": [
    {
     "data": {
      "text/plain": [
       "(5438, 3)"
      ]
     },
     "execution_count": 112,
     "metadata": {},
     "output_type": "execute_result"
    }
   ],
   "source": [
    "indexes = df[df['review_lang'] == False].index.tolist()\n",
    "df.drop(indexes, axis=0, inplace=True)\n",
    "df.reset_index(drop=True)\n",
    "df.shape"
   ]
  },
  {
   "cell_type": "markdown",
   "metadata": {},
   "source": [
    "### Лемматизация и длина отзывов"
   ]
  },
  {
   "cell_type": "code",
   "execution_count": 113,
   "metadata": {},
   "outputs": [],
   "source": [
    "nlp = spacy.load('en_core_web_sm', disable=['parser', 'ner'])"
   ]
  },
  {
   "cell_type": "code",
   "execution_count": 114,
   "metadata": {},
   "outputs": [],
   "source": [
    "def lemmatization(sentence, nlp):\n",
    "    doc = nlp(sentence)\n",
    "    return [token.lemma_.lower() for token in doc if re.sub('[^a-z]', '', token.lemma_.lower()).isalpha()]"
   ]
  },
  {
   "cell_type": "code",
   "execution_count": 115,
   "metadata": {},
   "outputs": [
    {
     "name": "stdout",
     "output_type": "stream",
     "text": [
      "Wall time: 8.33 s\n"
     ]
    }
   ],
   "source": [
    "%%time\n",
    "df['review_lem'] = df['review'].transform(lambda x: lemmatization(x, nlp))"
   ]
  },
  {
   "cell_type": "code",
   "execution_count": 116,
   "metadata": {},
   "outputs": [],
   "source": [
    "df['review_length'] = df['review_lem'].transform(lambda x: len(x))"
   ]
  },
  {
   "cell_type": "code",
   "execution_count": 117,
   "metadata": {},
   "outputs": [
    {
     "data": {
      "image/png": "[encoded data removed]",
      "text/plain": [
       "<Figure size 432x432 with 1 Axes>"
      ]
     },
     "metadata": {
      "needs_background": "light"
     },
     "output_type": "display_data"
    }
   ],
   "source": [
    "mpl.figure(figsize=[6, 6])\n",
    "mpl.boxplot(df['review_length'])\n",
    "mpl.title('Статистика по количеству токенов в каждом отзыве')\n",
    "mpl.show()"
   ]
  },
  {
   "cell_type": "markdown",
   "metadata": {},
   "source": [
    "В каждом отзыве остался хотя бы один токен. Уберем стоп-слова."
   ]
  },
  {
   "cell_type": "markdown",
   "metadata": {},
   "source": [
    "### Стопслова"
   ]
  },
  {
   "cell_type": "code",
   "execution_count": 118,
   "metadata": {},
   "outputs": [],
   "source": [
    "def remove_stopwords(x, words):\n",
    "    for i, el in enumerate(x):\n",
    "        if el in words:\n",
    "            x.pop(i)\n",
    "    return x"
   ]
  },
  {
   "cell_type": "code",
   "execution_count": 119,
   "metadata": {},
   "outputs": [
    {
     "name": "stdout",
     "output_type": "stream",
     "text": [
      "Wall time: 35.9 ms\n"
     ]
    }
   ],
   "source": [
    "%%time\n",
    "en_stopwords = stopwords.words('english')\n",
    "df['no_stopwords_review'] = df['review_lem'].transform(lambda x: remove_stopwords(x, en_stopwords))"
   ]
  },
  {
   "cell_type": "code",
   "execution_count": 120,
   "metadata": {},
   "outputs": [
    {
     "name": "stdout",
     "output_type": "stream",
     "text": [
      "2188 лемм осталось на данном этапе\n"
     ]
    }
   ],
   "source": [
    "lemmas = pd.DataFrame(df['no_stopwords_review'].sum())\n",
    "lemmas['count'] = 1\n",
    "lemmas = lemmas.groupby(0).count().sort_values('count', ascending=False)\n",
    "print('{} лемм осталось на данном этапе'.format(lemmas.shape[0]))"
   ]
  },
  {
   "cell_type": "code",
   "execution_count": 121,
   "metadata": {},
   "outputs": [
    {
     "data": {
      "image/png": "[encoded data removed]",
      "text/plain": [
       "<Figure size 1872x360 with 1 Axes>"
      ]
     },
     "metadata": {
      "needs_background": "light"
     },
     "output_type": "display_data"
    }
   ],
   "source": [
    "mpl.figure(figsize=[26, 5])\n",
    "mpl.hist(x=lemmas['count'].transform(lambda x: str(x)))\n",
    "mpl.xticks(rotation=90)\n",
    "mpl.title('График распределения частоты среди лемм')\n",
    "mpl.show()"
   ]
  },
  {
   "cell_type": "code",
   "execution_count": 122,
   "metadata": {},
   "outputs": [
    {
     "data": {
      "text/html": [
       "<div>\n",
       "<style scoped>\n",
       "    .dataframe tbody tr th:only-of-type {\n",
       "        vertical-align: middle;\n",
       "    }\n",
       "\n",
       "    .dataframe tbody tr th {\n",
       "        vertical-align: top;\n",
       "    }\n",
       "\n",
       "    .dataframe thead th {\n",
       "        text-align: right;\n",
       "    }\n",
       "</style>\n",
       "<table border=\"1\" class=\"dataframe\">\n",
       "  <thead>\n",
       "    <tr style=\"text-align: right;\">\n",
       "      <th></th>\n",
       "      <th>count</th>\n",
       "    </tr>\n",
       "    <tr>\n",
       "      <th>0</th>\n",
       "      <th></th>\n",
       "    </tr>\n",
       "  </thead>\n",
       "  <tbody>\n",
       "    <tr>\n",
       "      <th>good</th>\n",
       "      <td>1085</td>\n",
       "    </tr>\n",
       "    <tr>\n",
       "      <th>product</th>\n",
       "      <td>878</td>\n",
       "    </tr>\n",
       "    <tr>\n",
       "      <th>shoe</th>\n",
       "      <td>846</td>\n",
       "    </tr>\n",
       "    <tr>\n",
       "      <th>-pron-</th>\n",
       "      <td>787</td>\n",
       "    </tr>\n",
       "    <tr>\n",
       "      <th>quality</th>\n",
       "      <td>518</td>\n",
       "    </tr>\n",
       "    <tr>\n",
       "      <th>comfortable</th>\n",
       "      <td>345</td>\n",
       "    </tr>\n",
       "    <tr>\n",
       "      <th>size</th>\n",
       "      <td>319</td>\n",
       "    </tr>\n",
       "    <tr>\n",
       "      <th>not</th>\n",
       "      <td>303</td>\n",
       "    </tr>\n",
       "    <tr>\n",
       "      <th>buy</th>\n",
       "      <td>282</td>\n",
       "    </tr>\n",
       "    <tr>\n",
       "      <th>nice</th>\n",
       "      <td>269</td>\n",
       "    </tr>\n",
       "    <tr>\n",
       "      <th>price</th>\n",
       "      <td>263</td>\n",
       "    </tr>\n",
       "    <tr>\n",
       "      <th>bad</th>\n",
       "      <td>202</td>\n",
       "    </tr>\n",
       "  </tbody>\n",
       "</table>\n",
       "</div>"
      ],
      "text/plain": [
       "             count\n",
       "0                 \n",
       "good          1085\n",
       "product        878\n",
       "shoe           846\n",
       "-pron-         787\n",
       "quality        518\n",
       "comfortable    345\n",
       "size           319\n",
       "not            303\n",
       "buy            282\n",
       "nice           269\n",
       "price          263\n",
       "bad            202"
      ]
     },
     "execution_count": 122,
     "metadata": {},
     "output_type": "execute_result"
    }
   ],
   "source": [
    "lemmas[lemmas['count'] >= 200]"
   ]
  },
  {
   "cell_type": "markdown",
   "metadata": {},
   "source": [
    "Уберем только '-pron-'."
   ]
  },
  {
   "cell_type": "code",
   "execution_count": 123,
   "metadata": {},
   "outputs": [
    {
     "name": "stdout",
     "output_type": "stream",
     "text": [
      "Wall time: 4.02 ms\n"
     ]
    }
   ],
   "source": [
    "%%time\n",
    "en_stopwords_additional = ['-pron-']\n",
    "df['no_stopwords_review'] = df['no_stopwords_review'].transform(lambda x: remove_stopwords(x, en_stopwords_additional))"
   ]
  },
  {
   "cell_type": "code",
   "execution_count": 124,
   "metadata": {},
   "outputs": [],
   "source": [
    "df['no_stopwords_review_length'] = df['no_stopwords_review'].transform(lambda x: len(x))"
   ]
  },
  {
   "cell_type": "code",
   "execution_count": 125,
   "metadata": {},
   "outputs": [
    {
     "data": {
      "image/png": "[encoded data removed]",
      "text/plain": [
       "<Figure size 432x432 with 1 Axes>"
      ]
     },
     "metadata": {
      "needs_background": "light"
     },
     "output_type": "display_data"
    }
   ],
   "source": [
    "mpl.figure(figsize=[6, 6])\n",
    "mpl.boxplot(df['no_stopwords_review_length'])\n",
    "mpl.title('Статистика по количеству токенов в каждом отзыве без учета стоп-слов')\n",
    "mpl.show()"
   ]
  },
  {
   "cell_type": "markdown",
   "metadata": {},
   "source": [
    "Медиана находится на 3 токенах. Мне кажется нормальным, что некоторые отзывы состоят всего лишь из одного слова, так как оно зачастую оказывается эмоциально окрашенным. Поэтому уберем только те отзывы, в которых совсем не осталось токенов после предобработки."
   ]
  },
  {
   "cell_type": "code",
   "execution_count": 126,
   "metadata": {},
   "outputs": [
    {
     "name": "stdout",
     "output_type": "stream",
     "text": [
      "Всего осталось отзывов: 5428\n"
     ]
    }
   ],
   "source": [
    "df = df[df['no_stopwords_review_length'] != 0]\n",
    "df.reset_index(drop=True)\n",
    "print('Всего осталось отзывов: {}'.format(df.shape[0]))"
   ]
  },
  {
   "cell_type": "code",
   "execution_count": 127,
   "metadata": {},
   "outputs": [
    {
     "name": "stderr",
     "output_type": "stream",
     "text": [
      "<ipython-input-127-33bf20f0cde4>:1: SettingWithCopyWarning: \n",
      "A value is trying to be set on a copy of a slice from a DataFrame.\n",
      "Try using .loc[row_indexer,col_indexer] = value instead\n",
      "\n",
      "See the caveats in the documentation: https://pandas.pydata.org/pandas-docs/stable/user_guide/indexing.html#returning-a-view-versus-a-copy\n",
      "  df['no_stopwords_review'] = df['no_stopwords_review'].transform(lambda x: ' '.join(x))\n"
     ]
    }
   ],
   "source": [
    "df['no_stopwords_review'] = df['no_stopwords_review'].transform(lambda x: ' '.join(x))"
   ]
  },
  {
   "cell_type": "markdown",
   "metadata": {},
   "source": [
    "### Распределение на классы"
   ]
  },
  {
   "cell_type": "code",
   "execution_count": 128,
   "metadata": {},
   "outputs": [
    {
     "data": {
      "text/html": [
       "<div>\n",
       "<style scoped>\n",
       "    .dataframe tbody tr th:only-of-type {\n",
       "        vertical-align: middle;\n",
       "    }\n",
       "\n",
       "    .dataframe tbody tr th {\n",
       "        vertical-align: top;\n",
       "    }\n",
       "\n",
       "    .dataframe thead th {\n",
       "        text-align: right;\n",
       "    }\n",
       "</style>\n",
       "<table border=\"1\" class=\"dataframe\">\n",
       "  <thead>\n",
       "    <tr style=\"text-align: right;\">\n",
       "      <th></th>\n",
       "      <th>review</th>\n",
       "      <th>review_lang</th>\n",
       "      <th>review_lem</th>\n",
       "      <th>review_length</th>\n",
       "      <th>no_stopwords_review</th>\n",
       "      <th>no_stopwords_review_length</th>\n",
       "    </tr>\n",
       "    <tr>\n",
       "      <th>review_rating</th>\n",
       "      <th></th>\n",
       "      <th></th>\n",
       "      <th></th>\n",
       "      <th></th>\n",
       "      <th></th>\n",
       "      <th></th>\n",
       "    </tr>\n",
       "  </thead>\n",
       "  <tbody>\n",
       "    <tr>\n",
       "      <th>1.0 out of 5 stars</th>\n",
       "      <td>968</td>\n",
       "      <td>968</td>\n",
       "      <td>968</td>\n",
       "      <td>968</td>\n",
       "      <td>968</td>\n",
       "      <td>968</td>\n",
       "    </tr>\n",
       "    <tr>\n",
       "      <th>2.0 out of 5 stars</th>\n",
       "      <td>336</td>\n",
       "      <td>336</td>\n",
       "      <td>336</td>\n",
       "      <td>336</td>\n",
       "      <td>336</td>\n",
       "      <td>336</td>\n",
       "    </tr>\n",
       "    <tr>\n",
       "      <th>3.0 out of 5 stars</th>\n",
       "      <td>483</td>\n",
       "      <td>483</td>\n",
       "      <td>483</td>\n",
       "      <td>483</td>\n",
       "      <td>483</td>\n",
       "      <td>483</td>\n",
       "    </tr>\n",
       "    <tr>\n",
       "      <th>4.0 out of 5 stars</th>\n",
       "      <td>879</td>\n",
       "      <td>879</td>\n",
       "      <td>879</td>\n",
       "      <td>879</td>\n",
       "      <td>879</td>\n",
       "      <td>879</td>\n",
       "    </tr>\n",
       "    <tr>\n",
       "      <th>5.0 out of 5 stars</th>\n",
       "      <td>1941</td>\n",
       "      <td>1941</td>\n",
       "      <td>1941</td>\n",
       "      <td>1941</td>\n",
       "      <td>1941</td>\n",
       "      <td>1941</td>\n",
       "    </tr>\n",
       "    <tr>\n",
       "      <th>1.0 out of 5 stars</th>\n",
       "      <td>192</td>\n",
       "      <td>192</td>\n",
       "      <td>192</td>\n",
       "      <td>192</td>\n",
       "      <td>192</td>\n",
       "      <td>192</td>\n",
       "    </tr>\n",
       "    <tr>\n",
       "      <th>2.0 out of 5 stars</th>\n",
       "      <td>52</td>\n",
       "      <td>52</td>\n",
       "      <td>52</td>\n",
       "      <td>52</td>\n",
       "      <td>52</td>\n",
       "      <td>52</td>\n",
       "    </tr>\n",
       "    <tr>\n",
       "      <th>3.0 out of 5 stars</th>\n",
       "      <td>90</td>\n",
       "      <td>90</td>\n",
       "      <td>90</td>\n",
       "      <td>90</td>\n",
       "      <td>90</td>\n",
       "      <td>90</td>\n",
       "    </tr>\n",
       "    <tr>\n",
       "      <th>4.0 out of 5 stars</th>\n",
       "      <td>132</td>\n",
       "      <td>132</td>\n",
       "      <td>132</td>\n",
       "      <td>132</td>\n",
       "      <td>132</td>\n",
       "      <td>132</td>\n",
       "    </tr>\n",
       "    <tr>\n",
       "      <th>5.0 out of 5 stars</th>\n",
       "      <td>355</td>\n",
       "      <td>355</td>\n",
       "      <td>355</td>\n",
       "      <td>355</td>\n",
       "      <td>355</td>\n",
       "      <td>355</td>\n",
       "    </tr>\n",
       "  </tbody>\n",
       "</table>\n",
       "</div>"
      ],
      "text/plain": [
       "                     review  review_lang  review_lem  review_length  \\\n",
       "review_rating                                                         \n",
       " 1.0 out of 5 stars     968          968         968            968   \n",
       " 2.0 out of 5 stars     336          336         336            336   \n",
       " 3.0 out of 5 stars     483          483         483            483   \n",
       " 4.0 out of 5 stars     879          879         879            879   \n",
       " 5.0 out of 5 stars    1941         1941        1941           1941   \n",
       "1.0 out of 5 stars      192          192         192            192   \n",
       "2.0 out of 5 stars       52           52          52             52   \n",
       "3.0 out of 5 stars       90           90          90             90   \n",
       "4.0 out of 5 stars      132          132         132            132   \n",
       "5.0 out of 5 stars      355          355         355            355   \n",
       "\n",
       "                     no_stopwords_review  no_stopwords_review_length  \n",
       "review_rating                                                         \n",
       " 1.0 out of 5 stars                  968                         968  \n",
       " 2.0 out of 5 stars                  336                         336  \n",
       " 3.0 out of 5 stars                  483                         483  \n",
       " 4.0 out of 5 stars                  879                         879  \n",
       " 5.0 out of 5 stars                 1941                        1941  \n",
       "1.0 out of 5 stars                   192                         192  \n",
       "2.0 out of 5 stars                    52                          52  \n",
       "3.0 out of 5 stars                    90                          90  \n",
       "4.0 out of 5 stars                   132                         132  \n",
       "5.0 out of 5 stars                   355                         355  "
      ]
     },
     "execution_count": 128,
     "metadata": {},
     "output_type": "execute_result"
    }
   ],
   "source": [
    "classes = df.groupby('review_rating').count()\n",
    "classes"
   ]
  },
  {
   "cell_type": "markdown",
   "metadata": {},
   "source": [
    "Видимо, где-то есть лишние пробелы. Обработаем строки, чтобы получить единые классы."
   ]
  },
  {
   "cell_type": "code",
   "execution_count": 129,
   "metadata": {},
   "outputs": [
    {
     "name": "stderr",
     "output_type": "stream",
     "text": [
      "<ipython-input-129-c119f54abb37>:1: SettingWithCopyWarning: \n",
      "A value is trying to be set on a copy of a slice from a DataFrame.\n",
      "Try using .loc[row_indexer,col_indexer] = value instead\n",
      "\n",
      "See the caveats in the documentation: https://pandas.pydata.org/pandas-docs/stable/user_guide/indexing.html#returning-a-view-versus-a-copy\n",
      "  df['review_rating'] = df['review_rating'].transform(lambda x: x.strip(' ').split('.')[0])\n"
     ]
    }
   ],
   "source": [
    "df['review_rating'] = df['review_rating'].transform(lambda x: x.strip(' ').split('.')[0])"
   ]
  },
  {
   "cell_type": "code",
   "execution_count": 130,
   "metadata": {},
   "outputs": [
    {
     "data": {
      "image/png": "[encoded data removed]",
      "text/plain": [
       "<Figure size 432x288 with 1 Axes>"
      ]
     },
     "metadata": {
      "needs_background": "light"
     },
     "output_type": "display_data"
    }
   ],
   "source": [
    "mpl.hist(x=df['review_rating'])\n",
    "mpl.show()"
   ]
  },
  {
   "cell_type": "markdown",
   "metadata": {},
   "source": [
    "Классы получились несбалансированными. Посмотрим, какой длины отзывы в классе 5."
   ]
  },
  {
   "cell_type": "code",
   "execution_count": 131,
   "metadata": {},
   "outputs": [
    {
     "data": {
      "image/png": "[encoded data removed]",
      "text/plain": [
       "<Figure size 432x432 with 1 Axes>"
      ]
     },
     "metadata": {
      "needs_background": "light"
     },
     "output_type": "display_data"
    }
   ],
   "source": [
    "mpl.figure(figsize=[6, 6])\n",
    "mpl.boxplot(df[df['review_rating'] == '5']['no_stopwords_review_length'])\n",
    "mpl.title('Статистика по количеству токенов в каждом отзыве класса 5 без учета стоп-слов')\n",
    "mpl.show()"
   ]
  },
  {
   "cell_type": "code",
   "execution_count": 135,
   "metadata": {},
   "outputs": [
    {
     "data": {
      "text/plain": [
       "(1152, 7)"
      ]
     },
     "execution_count": 135,
     "metadata": {},
     "output_type": "execute_result"
    }
   ],
   "source": [
    "df[(df['review_rating'] == '5')&(df['no_stopwords_review_length'] > 2)].shape"
   ]
  },
  {
   "cell_type": "markdown",
   "metadata": {},
   "source": [
    "Оставим только те отзывы из класса 5, в которых больше 3 токенов."
   ]
  },
  {
   "cell_type": "code",
   "execution_count": 139,
   "metadata": {},
   "outputs": [
    {
     "name": "stderr",
     "output_type": "stream",
     "text": [
      "C:\\Users\\VADIK\\anaconda3\\lib\\site-packages\\pandas\\core\\frame.py:3990: SettingWithCopyWarning: \n",
      "A value is trying to be set on a copy of a slice from a DataFrame\n",
      "\n",
      "See the caveats in the documentation: https://pandas.pydata.org/pandas-docs/stable/user_guide/indexing.html#returning-a-view-versus-a-copy\n",
      "  return super().drop(\n"
     ]
    }
   ],
   "source": [
    "indexes = df[(df['review_rating'] == '5')&(df['no_stopwords_review_length'] <= 2)].index.tolist()\n",
    "df.drop(indexes, axis=0, inplace=True)"
   ]
  },
  {
   "cell_type": "markdown",
   "metadata": {},
   "source": [
    "Ревью из классов 3 и 2, напротив, дуплицируем."
   ]
  },
  {
   "cell_type": "code",
   "execution_count": 141,
   "metadata": {},
   "outputs": [],
   "source": [
    "df2 = df[df['review_rating'] == '2']\n",
    "df3 = df[df['review_rating'] == '3']\n",
    "df = pd.concat([df, df2, df3], axis=0)\n",
    "df.reset_index(drop=True, inplace=True)"
   ]
  },
  {
   "cell_type": "markdown",
   "metadata": {},
   "source": [
    "Теперь классы относительно сбалансированы."
   ]
  },
  {
   "cell_type": "code",
   "execution_count": 147,
   "metadata": {},
   "outputs": [
    {
     "data": {
      "image/png": "[encoded data removed]",
      "text/plain": [
       "<Figure size 432x288 with 1 Axes>"
      ]
     },
     "metadata": {
      "needs_background": "light"
     },
     "output_type": "display_data"
    }
   ],
   "source": [
    "mpl.hist(x=df['review_rating'])\n",
    "mpl.show()"
   ]
  },
  {
   "cell_type": "code",
   "execution_count": 149,
   "metadata": {},
   "outputs": [
    {
     "data": {
      "text/plain": [
       "5245"
      ]
     },
     "execution_count": 149,
     "metadata": {},
     "output_type": "execute_result"
    }
   ],
   "source": [
    "df.shape[0]"
   ]
  },
  {
   "cell_type": "markdown",
   "metadata": {},
   "source": [
    "### Векторизация"
   ]
  },
  {
   "cell_type": "code",
   "execution_count": 213,
   "metadata": {},
   "outputs": [],
   "source": [
    "y = np.array([df['review_rating']]).T"
   ]
  },
  {
   "cell_type": "code",
   "execution_count": 214,
   "metadata": {},
   "outputs": [],
   "source": [
    "bow_vectorizer = CountVectorizer()\n",
    "bow_X = bow_vectorizer.fit_transform(df['no_stopwords_review'])"
   ]
  },
  {
   "cell_type": "code",
   "execution_count": 240,
   "metadata": {},
   "outputs": [],
   "source": [
    "X_train_bow, X_test_bow, y_train, y_test = train_test_split(bow_X, y, test_size=0.2, random_state=0)"
   ]
  },
  {
   "cell_type": "code",
   "execution_count": 215,
   "metadata": {},
   "outputs": [],
   "source": [
    "tfidf_vectorizer = TfidfVectorizer()\n",
    "tfidf_X = bow_vectorizer.fit_transform(df['no_stopwords_review'])"
   ]
  },
  {
   "cell_type": "code",
   "execution_count": 216,
   "metadata": {},
   "outputs": [],
   "source": [
    "X_train_tfidf, X_test_tfidf, y_train, y_test = train_test_split(tfidf_X, y, test_size=0.2, random_state=0)"
   ]
  },
  {
   "cell_type": "markdown",
   "metadata": {},
   "source": [
    "### Обучение"
   ]
  },
  {
   "cell_type": "code",
   "execution_count": 217,
   "metadata": {},
   "outputs": [],
   "source": [
    "from sklearn.linear_model import LogisticRegression\n",
    "from sklearn.tree import DecisionTreeClassifier\n",
    "from sklearn.metrics import accuracy_score, confusion_matrix"
   ]
  },
  {
   "cell_type": "markdown",
   "metadata": {},
   "source": [
    "### Logistic Regression"
   ]
  },
  {
   "cell_type": "code",
   "execution_count": 248,
   "metadata": {},
   "outputs": [
    {
     "name": "stdout",
     "output_type": "stream",
     "text": [
      "Best score: 0.507624723310063\n",
      "Best parameters: {'C': 10.0, 'class_weight': None, 'max_iter': 800, 'multi_class': 'auto', 'penalty': 'l2'}\n",
      "Wall time: 53.4 s\n"
     ]
    }
   ],
   "source": [
    "%%time\n",
    "lr = LogisticRegression()\n",
    "\n",
    "parameter_grid = {'class_weight' : ['balanced', None],\n",
    "                  'penalty' : ['l2'],\n",
    "                  'C' : [0.001, 0.01, 0.08, 0.1, 0.15, 1.0, 10.0, 100.0],\n",
    "                  'max_iter': [800, 1000],\n",
    "                  'multi_class': ['auto']\n",
    "                 }\n",
    "grid_search = GridSearchCV(lr, param_grid=parameter_grid, scoring='accuracy')\n",
    "grid_search.fit(X_train_bow, np.ravel(y_train))\n",
    "print('Best score: {}'.format(grid_search.best_score_))\n",
    "print('Best parameters: {}'.format(grid_search.best_params_))"
   ]
  },
  {
   "cell_type": "code",
   "execution_count": 246,
   "metadata": {},
   "outputs": [
    {
     "name": "stdout",
     "output_type": "stream",
     "text": [
      "Score: 0.4861773117254528\n",
      "Wall time: 142 ms\n"
     ]
    }
   ],
   "source": [
    "%%time\n",
    "lr_bow= LogisticRegression(C=0.08,\n",
    "                           class_weight='balanced',\n",
    "                           max_iter=800,\n",
    "                           multi_class='auto',\n",
    "                           penalty='l2')\n",
    "lr_bow.fit(X_train_bow, np.ravel(y_train))\n",
    "y_pred = lr_bow.predict(X_test_bow)\n",
    "print('Score: {}'.format(accuracy_score(y_test, y_pred)))"
   ]
  },
  {
   "cell_type": "code",
   "execution_count": 247,
   "metadata": {},
   "outputs": [
    {
     "data": {
      "text/plain": [
       "<matplotlib.axes._subplots.AxesSubplot at 0x17511893820>"
      ]
     },
     "execution_count": 247,
     "metadata": {},
     "output_type": "execute_result"
    },
    {
     "data": {
      "image/png": "[encoded data removed]",
      "text/plain": [
       "<Figure size 432x288 with 2 Axes>"
      ]
     },
     "metadata": {
      "needs_background": "light"
     },
     "output_type": "display_data"
    }
   ],
   "source": [
    "sns.heatmap(data=confusion_matrix(y_test, y_pred), annot=True, fmt='d',\n",
    "            xticklabels=['1', '2', '3', '4', '5'],\n",
    "            yticklabels=['1', '2', '3', '4', '5'],)"
   ]
  },
  {
   "cell_type": "code",
   "execution_count": 235,
   "metadata": {},
   "outputs": [
    {
     "name": "stdout",
     "output_type": "stream",
     "text": [
      "Best score: 0.507624723310063\n",
      "Best parameters: {'C': 10.0, 'class_weight': None, 'max_iter': 800, 'multi_class': 'auto', 'penalty': 'l2'}\n",
      "Wall time: 53.6 s\n"
     ]
    }
   ],
   "source": [
    "%%time\n",
    "lr = LogisticRegression()\n",
    "\n",
    "parameter_grid = {'class_weight' : ['balanced', None],\n",
    "                  'penalty' : ['l2'],\n",
    "                  'C' : [0.001, 0.01, 0.08, 0.1, 0.15, 1.0, 10.0, 100.0],\n",
    "                  'max_iter': [800, 1000],\n",
    "                  'multi_class': ['auto']\n",
    "                 }\n",
    "grid_search = GridSearchCV(lr, param_grid=parameter_grid, scoring='accuracy')\n",
    "grid_search.fit(X_train_tfidf, np.ravel(y_train))\n",
    "print('Best score: {}'.format(grid_search.best_score_))\n",
    "print('Best parameters: {}'.format(grid_search.best_params_))"
   ]
  },
  {
   "cell_type": "code",
   "execution_count": 236,
   "metadata": {},
   "outputs": [
    {
     "name": "stdout",
     "output_type": "stream",
     "text": [
      "Score: 0.5481410867492851\n",
      "Wall time: 640 ms\n"
     ]
    }
   ],
   "source": [
    "%%time\n",
    "lr_tfidf= LogisticRegression(C=10.0,\n",
    "                           class_weight=None,\n",
    "                           max_iter=800,\n",
    "                           multi_class='auto',\n",
    "                           penalty='l2')\n",
    "lr_tfidf.fit(X_train_tfidf, np.ravel(y_train))\n",
    "y_pred = lr_tfidf.predict(X_test_tfidf)\n",
    "print('Score: {}'.format(accuracy_score(y_test, y_pred)))"
   ]
  },
  {
   "cell_type": "code",
   "execution_count": 237,
   "metadata": {},
   "outputs": [
    {
     "data": {
      "text/plain": [
       "<matplotlib.axes._subplots.AxesSubplot at 0x17513529130>"
      ]
     },
     "execution_count": 237,
     "metadata": {},
     "output_type": "execute_result"
    },
    {
     "data": {
      "image/png": "[encoded data removed]",
      "text/plain": [
       "<Figure size 432x288 with 2 Axes>"
      ]
     },
     "metadata": {
      "needs_background": "light"
     },
     "output_type": "display_data"
    }
   ],
   "source": [
    "sns.heatmap(data=confusion_matrix(y_test, y_pred), annot=True, fmt='d',\n",
    "            xticklabels=['1', '2', '3', '4', '5'],\n",
    "            yticklabels=['1', '2', '3', '4', '5'],)"
   ]
  },
  {
   "cell_type": "markdown",
   "metadata": {},
   "source": [
    "### Decision Tree Classifier"
   ]
  },
  {
   "cell_type": "code",
   "execution_count": 257,
   "metadata": {},
   "outputs": [
    {
     "name": "stdout",
     "output_type": "stream",
     "text": [
      "Best score: 0.4744988364833419\n",
      "Best parameters: {'max_depth': 100, 'splitter': 'best'}\n",
      "Wall time: 410 ms\n"
     ]
    }
   ],
   "source": [
    "%%time\n",
    "dtc = DecisionTreeClassifier()\n",
    "\n",
    "parameter_grid = {'splitter' : ['best', 'random'],\n",
    "                  'max_depth' : [2, 3, 4, 5, 10, 20, 30, 100]}\n",
    "\n",
    "grid_search = GridSearchCV(dtc, param_grid=parameter_grid, scoring='accuracy', n_jobs=-1)\n",
    "grid_search.fit(X_train_bow, y_train)\n",
    "print('Best score: {}'.format(grid_search.best_score_))\n",
    "print('Best parameters: {}'.format(grid_search.best_params_))"
   ]
  },
  {
   "cell_type": "code",
   "execution_count": 258,
   "metadata": {},
   "outputs": [
    {
     "name": "stdout",
     "output_type": "stream",
     "text": [
      "Score: 0.5081029551954243\n",
      "Wall time: 95.3 ms\n"
     ]
    }
   ],
   "source": [
    "%%time\n",
    "dtc_bow = DecisionTreeClassifier(splitter='best',\n",
    "                                 max_depth=100)\n",
    "dtc_bow.fit(X_train_bow, np.ravel(y_train))\n",
    "y_pred = dtc_bow.predict(X_test_bow)\n",
    "print('Score: {}'.format(accuracy_score(y_test, y_pred)))"
   ]
  },
  {
   "cell_type": "code",
   "execution_count": 259,
   "metadata": {},
   "outputs": [
    {
     "data": {
      "text/plain": [
       "<matplotlib.axes._subplots.AxesSubplot at 0x175141db5e0>"
      ]
     },
     "execution_count": 259,
     "metadata": {},
     "output_type": "execute_result"
    },
    {
     "data": {
      "image/png": "[encoded data removed]",
      "text/plain": [
       "<Figure size 432x288 with 2 Axes>"
      ]
     },
     "metadata": {
      "needs_background": "light"
     },
     "output_type": "display_data"
    }
   ],
   "source": [
    "sns.heatmap(data=confusion_matrix(y_test, y_pred), annot=True, fmt='d',\n",
    "            xticklabels=['1', '2', '3', '4', '5'],\n",
    "            yticklabels=['1', '2', '3', '4', '5'],)"
   ]
  },
  {
   "cell_type": "code",
   "execution_count": 260,
   "metadata": {},
   "outputs": [
    {
     "name": "stdout",
     "output_type": "stream",
     "text": [
      "Best score: 0.47259606107043534\n",
      "Best parameters: {'max_depth': 100, 'splitter': 'random'}\n",
      "Wall time: 423 ms\n"
     ]
    }
   ],
   "source": [
    "%%time\n",
    "dtc = DecisionTreeClassifier()\n",
    "\n",
    "parameter_grid = {'splitter' : ['best', 'random'],\n",
    "                  'max_depth' : [2, 3, 4, 5, 10, 20, 30, 100]}\n",
    "\n",
    "grid_search = GridSearchCV(dtc, param_grid=parameter_grid, scoring='accuracy', n_jobs=-1)\n",
    "grid_search.fit(X_train_tfidf, y_train)\n",
    "print('Best score: {}'.format(grid_search.best_score_))\n",
    "print('Best parameters: {}'.format(grid_search.best_params_))"
   ]
  },
  {
   "cell_type": "code",
   "execution_count": 261,
   "metadata": {},
   "outputs": [
    {
     "name": "stdout",
     "output_type": "stream",
     "text": [
      "Score: 0.5061963775023832\n",
      "Wall time: 92.8 ms\n"
     ]
    }
   ],
   "source": [
    "%%time\n",
    "dtc_tfidf = DecisionTreeClassifier(splitter='random',\n",
    "                                 max_depth=100)\n",
    "dtc_tfidf.fit(X_train_tfidf, np.ravel(y_train))\n",
    "y_pred = dtc_tfidf.predict(X_test_tfidf)\n",
    "print('Score: {}'.format(accuracy_score(y_test, y_pred)))"
   ]
  },
  {
   "cell_type": "code",
   "execution_count": 262,
   "metadata": {},
   "outputs": [
    {
     "data": {
      "text/plain": [
       "<matplotlib.axes._subplots.AxesSubplot at 0x175141d24f0>"
      ]
     },
     "execution_count": 262,
     "metadata": {},
     "output_type": "execute_result"
    },
    {
     "data": {
      "image/png": "[encoded data removed]",
      "text/plain": [
       "<Figure size 432x288 with 2 Axes>"
      ]
     },
     "metadata": {
      "needs_background": "light"
     },
     "output_type": "display_data"
    }
   ],
   "source": [
    "sns.heatmap(data=confusion_matrix(y_test, y_pred), annot=True, fmt='d',\n",
    "            xticklabels=['1', '2', '3', '4', '5'],\n",
    "            yticklabels=['1', '2', '3', '4', '5'],)"
   ]
  }
 ],
 "metadata": {
  "kernelspec": {
   "display_name": "Python 3",
   "language": "python",
   "name": "python3"
  },
  "language_info": {
   "codemirror_mode": {
    "name": "ipython",
    "version": 3
   },
   "file_extension": ".py",
   "mimetype": "text/x-python",
   "name": "python",
   "nbconvert_exporter": "python",
   "pygments_lexer": "ipython3",
   "version": "3.8.3"
  }
 },
 "nbformat": 4,
 "nbformat_minor": 4
}
